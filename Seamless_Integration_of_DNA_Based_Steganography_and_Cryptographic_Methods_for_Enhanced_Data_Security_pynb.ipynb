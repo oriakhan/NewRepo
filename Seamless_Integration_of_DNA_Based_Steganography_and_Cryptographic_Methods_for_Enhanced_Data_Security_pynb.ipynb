{
  "nbformat": 4,
  "nbformat_minor": 0,
  "metadata": {
    "colab": {
      "provenance": [],
      "authorship_tag": "ABX9TyNTNkXWr12wBvgKRryFlixr",
      "include_colab_link": true
    },
    "kernelspec": {
      "name": "python3",
      "display_name": "Python 3"
    },
    "language_info": {
      "name": "python"
    }
  },
  "cells": [
    {
      "cell_type": "markdown",
      "metadata": {
        "id": "view-in-github",
        "colab_type": "text"
      },
      "source": [
        "<a href=\"https://colab.research.google.com/github/oriakhan/NewRepo/blob/master/Seamless_Integration_of_DNA_Based_Steganography_and_Cryptographic_Methods_for_Enhanced_Data_Security_pynb.ipynb\" target=\"_parent\"><img src=\"https://colab.research.google.com/assets/colab-badge.svg\" alt=\"Open In Colab\"/></a>"
      ]
    },
    {
      "cell_type": "code",
      "execution_count": null,
      "metadata": {
        "id": "nsA1-5wZa295"
      },
      "outputs": [],
      "source": [
        "# Install Tesseract and pytesseract on Google Colab\n",
        "!apt-get update\n",
        "!apt-get install tesseract-ocr\n",
        "!apt-get install libtesseract-dev\n",
        "!pip install pytesseract\n",
        "!pip install transformers\n",
        "!pip install pycryptodome\n",
        "!pip install torch\n",
        "!pip install biopython\n",
        "!pip install --upgrade cryptography\n",
        "# Restart the runtime after installation (required for pytesseract to work)\n",
        "import os\n",
        "os.kill(os.getpid(), 9)"
      ]
    },
    {
      "cell_type": "code",
      "source": [
        "from cryptography.fernet import Fernet\n",
        "from transformers import BertTokenizer, BertForMaskedLM\n",
        "import torch\n",
        "\n",
        "def convert_to_binary(data):\n",
        "    if data is None:\n",
        "        return []\n",
        "    binary_data = [int(bit) for byte in data for bit in '{:08b}'.format(byte)]\n",
        "    return binary_data\n",
        "\n",
        "def generate_dna_sequence(binary_data):\n",
        "    dna_sequence = \"\"\n",
        "    for i in range(0, len(binary_data), 2):\n",
        "        nucleotide = \"\"\n",
        "        if binary_data[i] == 0 and binary_data[i + 1] == 0:\n",
        "            nucleotide = \"A\"\n",
        "        elif binary_data[i] == 0 and binary_data[i + 1] == 1:\n",
        "            nucleotide = \"C\"\n",
        "        elif binary_data[i] == 1 and binary_data[i + 1] == 0:\n",
        "            nucleotide = \"G\"\n",
        "        elif binary_data[i] == 1 and binary_data[i + 1] == 1:\n",
        "            nucleotide = \"T\"\n",
        "        dna_sequence += nucleotide\n",
        "    return dna_sequence\n",
        "\n",
        "def decode_dna_sequence(dna_sequence):\n",
        "    binary_data = []\n",
        "    for nucleotide in dna_sequence:\n",
        "        if nucleotide == \"A\":\n",
        "            binary_data.extend([0, 0])\n",
        "        elif nucleotide == \"C\":\n",
        "            binary_data.extend([0, 1])\n",
        "        elif nucleotide == \"G\":\n",
        "            binary_data.extend([1, 0])\n",
        "        elif nucleotide == \"T\":\n",
        "            binary_data.extend([1, 1])\n",
        "    return binary_data\n",
        "\n",
        "def embed_dna_sequence(dna_sequence, text, model_name=\"bert-base-uncased\"):\n",
        "    tokenizer = BertTokenizer.from_pretrained(model_name)\n",
        "    model = BertForMaskedLM.from_pretrained(model_name)\n",
        "\n",
        "    inputs = tokenizer(text, return_tensors=\"pt\")\n",
        "    input_ids = inputs[\"input_ids\"]\n",
        "\n",
        "    mask_indices = torch.where(input_ids == tokenizer.mask_token_id)\n",
        "    if len(mask_indices[0]) == 0:\n",
        "        raise ValueError(\"No [MASK] tokens found in the input text.\")\n",
        "\n",
        "    num_mask_tokens = len(mask_indices[0])\n",
        "    num_dna_tokens_needed = num_mask_tokens - len(dna_sequence)\n",
        "\n",
        "    # Repeat the DNA sequence to cover all [MASK] tokens\n",
        "    repeated_dna_sequence = dna_sequence * ((num_dna_tokens_needed + len(dna_sequence) - 1) // len(dna_sequence))\n",
        "\n",
        "    # Ensure that the repeated DNA sequence is long enough\n",
        "    repeated_dna_sequence += dna_sequence[:num_mask_tokens - len(repeated_dna_sequence)]\n",
        "\n",
        "    filled_ids = input_ids.clone()\n",
        "    for i, index in enumerate(mask_indices[0]):\n",
        "        dna_token_id = tokenizer.convert_tokens_to_ids(tokenizer.tokenize(repeated_dna_sequence[i]))\n",
        "        filled_ids[0, index] = dna_token_id[0]\n",
        "\n",
        "    with torch.no_grad():\n",
        "        embeddings = model.bert.embeddings.word_embeddings(filled_ids)\n",
        "\n",
        "    avg_embedding = torch.mean(embeddings, dim=1)\n",
        "    return avg_embedding\n",
        "\n",
        "def extract_original_data(binary_data):\n",
        "    original_data = []\n",
        "    for i in range(0, len(binary_data), 8):\n",
        "        byte = binary_data[i:i+8]\n",
        "        byte_value = int(''.join(map(str, byte)), 2)\n",
        "        original_data.append(byte_value)\n",
        "    return bytes(original_data)\n",
        "\n",
        "\n",
        "# Step 1: Encryption\n",
        "key = Fernet.generate_key()\n",
        "f = Fernet(key)\n",
        "message = b\"A really secret message. Not for prying eyes.\"\n",
        "encrypted_token = f.encrypt(message)\n",
        "print(\"encrypted_token:\", encrypted_token)\n",
        "# Step 2: Conversion to Binary\n",
        "binary_data = convert_to_binary(encrypted_token)\n",
        "print(\"binary_data \", binary_data )\n",
        "# Step 3: Generating DNA Sequence\n",
        "dna_sequence = generate_dna_sequence(binary_data)\n",
        "print(\"dna_sequence \", dna_sequence )\n",
        "# Step 4: Embedding DNA Sequence into Text\n",
        "text = \"This is a [MASK] text for DNA embedding.\"\n",
        "model_name = \"bert-base-uncased\"\n",
        "avg_embedding = embed_dna_sequence(dna_sequence, text, model_name)\n",
        "print(\"avg_embedding  \", avg_embedding  )\n",
        "# Step 5: Decoding DNA Sequence\n",
        "decoded_binary_data = decode_dna_sequence(dna_sequence)\n",
        "print(\"decoded_binary_data  \", decoded_binary_data  )\n",
        "# Step 6: Extracting Original Data\n",
        "extracted_original_data = extract_original_data(decoded_binary_data)\n",
        "print(\"extracted_original_data \", extracted_original_data  )\n",
        "# Step 7: Decryption\n",
        "decrypted_message = f.decrypt(extracted_original_data)\n",
        "\n",
        "# Print results\n",
        "print(\"Original Message:\", message.decode())\n",
        "print(\"Decrypted Message:\", decrypted_message.decode())"
      ],
      "metadata": {
        "id": "G3z4Vnp0a5jU"
      },
      "execution_count": null,
      "outputs": []
    },
    {
      "cell_type": "code",
      "source": [],
      "metadata": {
        "id": "sxMv73BMRr4U"
      },
      "execution_count": null,
      "outputs": []
    }
  ]
}